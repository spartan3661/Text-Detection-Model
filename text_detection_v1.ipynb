{
 "cells": [
  {
   "cell_type": "code",
   "execution_count": 1,
   "metadata": {},
   "outputs": [],
   "source": [
    "import torch\n",
    "import torch.nn as nn\n",
    "import torch.optim as optim\n",
    "from torch.utils.data import DataLoader, Dataset\n",
    "import torch.nn.functional as F\n",
    "import torchvision.models as models\n",
    "from torchvision.models import ResNet18_Weights\n",
    "import torchvision.transforms as transforms\n",
    "import torchvision.models as models\n",
    "import json\n",
    "import os\n",
    "from PIL import Image\n",
    "from torchvision.ops import nms\n",
    "from tqdm import tqdm"
   ]
  },
  {
   "cell_type": "code",
   "execution_count": 2,
   "metadata": {},
   "outputs": [],
   "source": [
    "class ResnetBackbone(nn.Module): # get C2, C3, C4, and C5\n",
    "    def __init__(self, backbone='resnet18', pretrained=True):\n",
    "        super(ResnetBackbone, self).__init__()\n",
    "\n",
    "        # feature extractor\n",
    "        self.backbone = models.resnet18(weights=ResNet18_Weights.DEFAULT)\n",
    "        #print(self.backbone)\n",
    "        self.feature_channels=[64, 128, 256, 512] # dimension for c1, c2, c3, c4 in resnet 18\n",
    "\n",
    "        # remove last two layers of resnet18\n",
    "        model_layers = list(self.backbone.children())[:-2]\n",
    "        self.backbone = nn.Sequential(*model_layers)\n",
    "        print(self.backbone) # view resnet18 model\n",
    "\n",
    "        self.stem = nn.Sequential(                  #contains first residual block of resnet\n",
    "            self.backbone[0],                       # conv1\n",
    "            self.backbone[1],                       # batch norm\n",
    "            self.backbone[2],                       # ReLU\n",
    "            self.backbone[3]                        # max pooling\n",
    "        )\n",
    "\n",
    "        self.layer1 = self.backbone[4]\n",
    "        self.layer2 = self.backbone[5]\n",
    "        self.layer3 = self.backbone[6]\n",
    "        self.layer4 = self.backbone[7]\n",
    "\n",
    "    def forward(self, x):\n",
    "        c1 = self.stem(x)\n",
    "        c2 = self.layer1(c1)\n",
    "        c3 = self.layer2(c2)\n",
    "        c4 = self.layer3(c3)\n",
    "        c5 = self.layer4(c4)\n",
    "        return c2, c3, c4, c5\n",
    "    \n",
    "class FPN(nn.Module):\n",
    "    def __init__(self, backbone, out_channel=256): # out_channel represents fixed number of features outputs for C5 - C2\n",
    "        super(FPN, self).__init__()\n",
    "        self.backbone = backbone\n",
    "\n",
    "        # lateral convolution, merges C# -> M#\n",
    "        self.lateral_layers = nn.ModuleList([\n",
    "            nn.Conv2d(self.backbone.feature_channels[3], out_channel, kernel_size=1), # feature channel corresponds to layers in ResnetBackbone, eg. feature_channel[3] = C5\n",
    "            nn.Conv2d(self.backbone.feature_channels[2], out_channel, kernel_size=1),\n",
    "            nn.Conv2d(self.backbone.feature_channels[1], out_channel, kernel_size=1),\n",
    "            nn.Conv2d(self.backbone.feature_channels[0], out_channel, kernel_size=1)   \n",
    "        ])\n",
    "\n",
    "        # smoothing 3x3 filters, smooths M4, M3, M2 -> P4, P3, P2\n",
    "        self.smoothing_layers = nn.ModuleList([         #module list stores sub modules like Sequential but layer sequence can be changed in forward pass\n",
    "            nn.Conv2d(out_channel, out_channel, kernel_size=3, padding=1),\n",
    "            nn.Conv2d(out_channel, out_channel, kernel_size=3, padding=1),\n",
    "            nn.Conv2d(out_channel, out_channel, kernel_size=3, padding=1),\n",
    "        ])\n",
    "\n",
    "    def forward(self, x):\n",
    "        c2, c3, c4, c5 = self.backbone(x) #bottom up path from resnet backbone\n",
    "\n",
    "        m5 = self.lateral_layers[0](c5) #C5 -> M5, no upsampling!\n",
    "        m4 = self.lateral_layers[1](c4) + F.interpolate(m5, size=c4.shape[2:], mode='nearest') #include smoothing and upsampling\n",
    "        m3 = self.lateral_layers[2](c3) + F.interpolate(m4, size=c3.shape[2:], mode='nearest')\n",
    "        m2 = self.lateral_layers[3](c2) + F.interpolate(m3, size=c2.shape[2:], mode='nearest')\n",
    "\n",
    "\n",
    "        p5 = m5\n",
    "        p4 = self.smoothing_layers[0](m4)\n",
    "        p3 = self.smoothing_layers[1](m3)\n",
    "        p2 = self.smoothing_layers[2](m2)\n",
    "\n",
    "        return [p2, p3, p4, p5]"
   ]
  },
  {
   "cell_type": "code",
   "execution_count": 3,
   "metadata": {},
   "outputs": [],
   "source": [
    "#temp = ResnetBackbone()"
   ]
  },
  {
   "cell_type": "code",
   "execution_count": 4,
   "metadata": {},
   "outputs": [],
   "source": [
    "class BBoxRegressionHead(nn.Module):\n",
    "    def __init__(self, in_channels=256):\n",
    "        super(BBoxRegressionHead, self).__init__()\n",
    "        self.conv = nn.Conv2d(in_channels, 4, kernel_size=3, padding=1) #four outputs\n",
    "\n",
    "    def forward(self, x):\n",
    "        return self.conv(x)"
   ]
  },
  {
   "cell_type": "code",
   "execution_count": 5,
   "metadata": {},
   "outputs": [],
   "source": [
    "class TextDetector(nn.Module):\n",
    "    def __init__(self, backbone, fpn, regression_head):\n",
    "        super(TextDetector, self).__init__()\n",
    "        self._backbone = backbone\n",
    "        self.fpn = fpn\n",
    "        self.bbox_regression_head = regression_head\n",
    "\n",
    "    def forward(self, x):\n",
    "        feature_maps = self.fpn(x) #[p2, p3, p4, p5]\n",
    "\n",
    "        bbox_predictions = []\n",
    "        for fmap in feature_maps:\n",
    "            bbox_predictions.append(self.bbox_regression_head(fmap))\n",
    "\n",
    "        return bbox_predictions"
   ]
  },
  {
   "cell_type": "code",
   "execution_count": 6,
   "metadata": {},
   "outputs": [
    {
     "name": "stdout",
     "output_type": "stream",
     "text": [
      "Sequential(\n",
      "  (0): Conv2d(3, 64, kernel_size=(7, 7), stride=(2, 2), padding=(3, 3), bias=False)\n",
      "  (1): BatchNorm2d(64, eps=1e-05, momentum=0.1, affine=True, track_running_stats=True)\n",
      "  (2): ReLU(inplace=True)\n",
      "  (3): MaxPool2d(kernel_size=3, stride=2, padding=1, dilation=1, ceil_mode=False)\n",
      "  (4): Sequential(\n",
      "    (0): BasicBlock(\n",
      "      (conv1): Conv2d(64, 64, kernel_size=(3, 3), stride=(1, 1), padding=(1, 1), bias=False)\n",
      "      (bn1): BatchNorm2d(64, eps=1e-05, momentum=0.1, affine=True, track_running_stats=True)\n",
      "      (relu): ReLU(inplace=True)\n",
      "      (conv2): Conv2d(64, 64, kernel_size=(3, 3), stride=(1, 1), padding=(1, 1), bias=False)\n",
      "      (bn2): BatchNorm2d(64, eps=1e-05, momentum=0.1, affine=True, track_running_stats=True)\n",
      "    )\n",
      "    (1): BasicBlock(\n",
      "      (conv1): Conv2d(64, 64, kernel_size=(3, 3), stride=(1, 1), padding=(1, 1), bias=False)\n",
      "      (bn1): BatchNorm2d(64, eps=1e-05, momentum=0.1, affine=True, track_running_stats=True)\n",
      "      (relu): ReLU(inplace=True)\n",
      "      (conv2): Conv2d(64, 64, kernel_size=(3, 3), stride=(1, 1), padding=(1, 1), bias=False)\n",
      "      (bn2): BatchNorm2d(64, eps=1e-05, momentum=0.1, affine=True, track_running_stats=True)\n",
      "    )\n",
      "  )\n",
      "  (5): Sequential(\n",
      "    (0): BasicBlock(\n",
      "      (conv1): Conv2d(64, 128, kernel_size=(3, 3), stride=(2, 2), padding=(1, 1), bias=False)\n",
      "      (bn1): BatchNorm2d(128, eps=1e-05, momentum=0.1, affine=True, track_running_stats=True)\n",
      "      (relu): ReLU(inplace=True)\n",
      "      (conv2): Conv2d(128, 128, kernel_size=(3, 3), stride=(1, 1), padding=(1, 1), bias=False)\n",
      "      (bn2): BatchNorm2d(128, eps=1e-05, momentum=0.1, affine=True, track_running_stats=True)\n",
      "      (downsample): Sequential(\n",
      "        (0): Conv2d(64, 128, kernel_size=(1, 1), stride=(2, 2), bias=False)\n",
      "        (1): BatchNorm2d(128, eps=1e-05, momentum=0.1, affine=True, track_running_stats=True)\n",
      "      )\n",
      "    )\n",
      "    (1): BasicBlock(\n",
      "      (conv1): Conv2d(128, 128, kernel_size=(3, 3), stride=(1, 1), padding=(1, 1), bias=False)\n",
      "      (bn1): BatchNorm2d(128, eps=1e-05, momentum=0.1, affine=True, track_running_stats=True)\n",
      "      (relu): ReLU(inplace=True)\n",
      "      (conv2): Conv2d(128, 128, kernel_size=(3, 3), stride=(1, 1), padding=(1, 1), bias=False)\n",
      "      (bn2): BatchNorm2d(128, eps=1e-05, momentum=0.1, affine=True, track_running_stats=True)\n",
      "    )\n",
      "  )\n",
      "  (6): Sequential(\n",
      "    (0): BasicBlock(\n",
      "      (conv1): Conv2d(128, 256, kernel_size=(3, 3), stride=(2, 2), padding=(1, 1), bias=False)\n",
      "      (bn1): BatchNorm2d(256, eps=1e-05, momentum=0.1, affine=True, track_running_stats=True)\n",
      "      (relu): ReLU(inplace=True)\n",
      "      (conv2): Conv2d(256, 256, kernel_size=(3, 3), stride=(1, 1), padding=(1, 1), bias=False)\n",
      "      (bn2): BatchNorm2d(256, eps=1e-05, momentum=0.1, affine=True, track_running_stats=True)\n",
      "      (downsample): Sequential(\n",
      "        (0): Conv2d(128, 256, kernel_size=(1, 1), stride=(2, 2), bias=False)\n",
      "        (1): BatchNorm2d(256, eps=1e-05, momentum=0.1, affine=True, track_running_stats=True)\n",
      "      )\n",
      "    )\n",
      "    (1): BasicBlock(\n",
      "      (conv1): Conv2d(256, 256, kernel_size=(3, 3), stride=(1, 1), padding=(1, 1), bias=False)\n",
      "      (bn1): BatchNorm2d(256, eps=1e-05, momentum=0.1, affine=True, track_running_stats=True)\n",
      "      (relu): ReLU(inplace=True)\n",
      "      (conv2): Conv2d(256, 256, kernel_size=(3, 3), stride=(1, 1), padding=(1, 1), bias=False)\n",
      "      (bn2): BatchNorm2d(256, eps=1e-05, momentum=0.1, affine=True, track_running_stats=True)\n",
      "    )\n",
      "  )\n",
      "  (7): Sequential(\n",
      "    (0): BasicBlock(\n",
      "      (conv1): Conv2d(256, 512, kernel_size=(3, 3), stride=(2, 2), padding=(1, 1), bias=False)\n",
      "      (bn1): BatchNorm2d(512, eps=1e-05, momentum=0.1, affine=True, track_running_stats=True)\n",
      "      (relu): ReLU(inplace=True)\n",
      "      (conv2): Conv2d(512, 512, kernel_size=(3, 3), stride=(1, 1), padding=(1, 1), bias=False)\n",
      "      (bn2): BatchNorm2d(512, eps=1e-05, momentum=0.1, affine=True, track_running_stats=True)\n",
      "      (downsample): Sequential(\n",
      "        (0): Conv2d(256, 512, kernel_size=(1, 1), stride=(2, 2), bias=False)\n",
      "        (1): BatchNorm2d(512, eps=1e-05, momentum=0.1, affine=True, track_running_stats=True)\n",
      "      )\n",
      "    )\n",
      "    (1): BasicBlock(\n",
      "      (conv1): Conv2d(512, 512, kernel_size=(3, 3), stride=(1, 1), padding=(1, 1), bias=False)\n",
      "      (bn1): BatchNorm2d(512, eps=1e-05, momentum=0.1, affine=True, track_running_stats=True)\n",
      "      (relu): ReLU(inplace=True)\n",
      "      (conv2): Conv2d(512, 512, kernel_size=(3, 3), stride=(1, 1), padding=(1, 1), bias=False)\n",
      "      (bn2): BatchNorm2d(512, eps=1e-05, momentum=0.1, affine=True, track_running_stats=True)\n",
      "    )\n",
      "  )\n",
      ")\n"
     ]
    }
   ],
   "source": [
    "backbone = ResnetBackbone(backbone='resnet18', pretrained=ResNet18_Weights)\n",
    "\n",
    "fpn = FPN(backbone)\n",
    "\n",
    "regression_head = BBoxRegressionHead()\n",
    "\n",
    "model = TextDetector(backbone, fpn, regression_head)"
   ]
  },
  {
   "cell_type": "code",
   "execution_count": 7,
   "metadata": {},
   "outputs": [
    {
     "name": "stdout",
     "output_type": "stream",
     "text": [
      "Feature Map 1 Bounding Box Predictions: torch.Size([1, 4, 64, 64])\n",
      "Feature Map 2 Bounding Box Predictions: torch.Size([1, 4, 32, 32])\n",
      "Feature Map 3 Bounding Box Predictions: torch.Size([1, 4, 16, 16])\n",
      "Feature Map 4 Bounding Box Predictions: torch.Size([1, 4, 8, 8])\n"
     ]
    }
   ],
   "source": [
    "#example input\n",
    "x = torch.rand(1, 3, 256, 256)  #batch size = 1, 3 channels, 256x256 image\n",
    "\n",
    "with torch.no_grad():\n",
    "    pred_bboxes = model(x)\n",
    "\n",
    "for i, pred in enumerate(pred_bboxes):\n",
    "    print(f\"Feature Map {i+1} Bounding Box Predictions: {pred.shape}\")\n"
   ]
  },
  {
   "cell_type": "code",
   "execution_count": 8,
   "metadata": {},
   "outputs": [
    {
     "name": "stdout",
     "output_type": "stream",
     "text": [
      "{\n",
      "    \"width\": 612,\n",
      "    \"file_name\": \"COCO_train2014_000000378466.jpg\",\n",
      "    \"set\": \"train\",\n",
      "    \"id\": 378466,\n",
      "    \"height\": 612\n",
      "}\n"
     ]
    }
   ],
   "source": [
    "ann_path = \"./COCO-Text/COCO_Text.json\"\n",
    "\n",
    "with open(ann_path, \"r\") as f:\n",
    "    annotations = json.load(f)\n",
    "    test = f.read()\n",
    "\n",
    "key_to_access = \"imgs\"\n",
    "if key_to_access in annotations:\n",
    "    print(json.dumps(annotations[key_to_access][\"378466\"], indent=4))\n",
    "else:\n",
    "    print(f\"Key '{key_to_access}' not found in the JSON data.\")"
   ]
  },
  {
   "cell_type": "code",
   "execution_count": 9,
   "metadata": {},
   "outputs": [],
   "source": [
    "class TextDataset(Dataset):\n",
    "    def __init__(self, images_path, image_ids, annotations, transform=None):\n",
    "        self.images_path = images_path\n",
    "        self.image_ids = image_ids\n",
    "        self.labels = []\n",
    "        self.transform = transform\n",
    "        \n",
    "        self.annotations = annotations\n",
    "\n",
    "    def __len__(self):\n",
    "        return len(self.images_path)\n",
    "\n",
    "    def __getitem__(self, idx):\n",
    "        current_id = self.image_ids[idx]\n",
    "        filename = self.annotations[\"imgs\"][str(current_id)][\"file_name\"]  \n",
    "\n",
    "        image = Image.open(os.path.join(self.images_path, filename))\n",
    "        #image_to_labels = self.annotations[\"imgToAnns\"][str(current_id)]\n",
    "\n",
    "        orig_width, orig_height = image.size\n",
    "\n",
    "        if self.transform: # must transform image\n",
    "            image = self.transform(image)\n",
    "\n",
    "\n",
    "        scaled_width, scaled_height = self.transform.transforms[-2].size\n",
    "\n",
    "        \n",
    "        list_of_related_annotations = self.annotations[\"imgToAnns\"][str(current_id)]\n",
    "\n",
    "        # empty tensor for image with no annotation\n",
    "        if not list_of_related_annotations:\n",
    "            target = {\n",
    "                \"bboxes\": torch.empty((0, 4), dtype=torch.float32),\n",
    "                \"bbox_ids\": torch.empty((0,), dtype=torch.int64),\n",
    "                \"centerpoints\": torch.empty((0, 2), dtype=torch.float32),\n",
    "                \"image_id\": torch.tensor([int(current_id)], dtype=torch.int64),\n",
    "            }\n",
    "            return image, target\n",
    "\n",
    "        unscaled_bbox_list = []\n",
    "        annotation_id_list = []\n",
    "\n",
    "        for element in list_of_related_annotations:\n",
    "            bbox = self.annotations[\"anns\"][str(element)][\"bbox\"]\n",
    "            unscaled_bbox_list.append(bbox)\n",
    "            annotation_id_list.append(int(element))\n",
    "\n",
    "        scaled_bbox = []\n",
    "        centers = []\n",
    "        scale_factor_width = scaled_width / orig_width\n",
    "        scale_factor_height = scaled_height / orig_height\n",
    "\n",
    "        for bbox in unscaled_bbox_list:\n",
    "            x_min, y_min, width, height = bbox\n",
    "\n",
    "\n",
    "            x_min = x_min * scale_factor_width\n",
    "            y_min = y_min * scale_factor_height\n",
    "            x_max = x_min + (width * scale_factor_width)\n",
    "            y_max = y_min + (height * scale_factor_height) #x_min, y_min already scaled\n",
    "\n",
    "            scaled_bbox.append([\n",
    "                x_min,\n",
    "                y_min,\n",
    "                x_max,\n",
    "                y_max\n",
    "            ])\n",
    "\n",
    "            #centerpoints\n",
    "            x_center = (x_min + x_max) / 2\n",
    "            y_center = (y_min + y_max) / 2\n",
    "            centers.append([x_center, y_center])\n",
    "\n",
    "        bboxes = torch.tensor(scaled_bbox, dtype=torch.float32) # IMPORTANT USING PASCAL VOC\n",
    "        bbox_ids = torch.tensor(annotation_id_list, dtype=torch.int64)\n",
    "        centerpoints = torch.tensor(centers, dtype=torch.float32)\n",
    "\n",
    "        target = {\n",
    "            \"bboxes\": bboxes,\n",
    "            \"bbox_ids\": bbox_ids,\n",
    "            \"centerpoints\": centerpoints,\n",
    "            \"image_id\": torch.tensor([int(current_id)], dtype=torch.int64)\n",
    "        }\n",
    "        \n",
    "\n",
    "        return image, target"
   ]
  },
  {
   "cell_type": "code",
   "execution_count": 10,
   "metadata": {},
   "outputs": [],
   "source": [
    "index = 1\n",
    "images = \"COCO-Text/train2014\"\n",
    "image_ids = list(annotations[\"imgs\"].keys())\n"
   ]
  },
  {
   "cell_type": "code",
   "execution_count": 11,
   "metadata": {},
   "outputs": [
    {
     "data": {
      "text/plain": [
       "'\\n\\n\\n\\n#print(image_ids[index])\\nfilename = annotations[\"imgs\"][str(image_ids[index])][\"file_name\"]\\nimage = Image.open(os.path.join(images, filename))\\n#image.show()\\n\\nprint(filename)\\n#print(len(os.listdir(images)))\\n\\nimage_to_labels = annotations[\"imgToAnns\"][str(image_ids[index])]\\n#print(image_ids[index])\\n\\ntemp_array = []\\n\\nfor element in image_to_labels:\\n    #print(element)\\n    element_annotations = annotations[\"anns\"][str(element)]\\n    #print(element_annotations[\"bbox\"])\\n    temp_array.append(element_annotations[\"bbox\"])\\n#print(temp_array)\\n\\n\\nbbox_list = []\\nannotation_id_list = []\\n\\nfor element in image_to_labels:\\n    bbox = annotations[\"anns\"][str(element)][\"bbox\"]\\n    bbox_list.append(bbox)\\n    annotation_id_list.append(int(element))\\n\\nbboxes = torch.tensor(bbox_list, dtype=torch.float32)\\nbbox_ids = torch.tensor(annotation_id_list, dtype=torch.float32)\\n\\nprint(bboxes)\\n'"
      ]
     },
     "execution_count": 11,
     "metadata": {},
     "output_type": "execute_result"
    }
   ],
   "source": [
    "\n",
    "#print(image_ids[index])\n",
    "filename = annotations[\"imgs\"][str(image_ids[index])][\"file_name\"]\n",
    "image = Image.open(os.path.join(images, filename))\n",
    "#image.show()\n",
    "\n",
    "print(filename)\n",
    "#print(len(os.listdir(images)))\n",
    "\n",
    "image_to_labels = annotations[\"imgToAnns\"][str(image_ids[index])]\n",
    "#print(image_ids[index])\n",
    "\n",
    "temp_array = []\n",
    "\n",
    "for element in image_to_labels:\n",
    "    #print(element)\n",
    "    element_annotations = annotations[\"anns\"][str(element)]\n",
    "    #print(element_annotations[\"bbox\"])\n",
    "    temp_array.append(element_annotations[\"bbox\"])\n",
    "#print(temp_array)\n",
    "\n",
    "\n",
    "bbox_list = []\n",
    "annotation_id_list = []\n",
    "\n",
    "for element in image_to_labels:\n",
    "    bbox = annotations[\"anns\"][str(element)][\"bbox\"]\n",
    "    bbox_list.append(bbox)\n",
    "    annotation_id_list.append(int(element))\n",
    "\n",
    "bboxes = torch.tensor(bbox_list, dtype=torch.float32)\n",
    "bbox_ids = torch.tensor(annotation_id_list, dtype=torch.float32)\n",
    "\n",
    "print(bboxes)\n"
   ]
  },
  {
   "cell_type": "code",
   "execution_count": 12,
   "metadata": {},
   "outputs": [],
   "source": [
    "transform = transforms.Compose([\n",
    "    transforms.Resize((256, 256)),\n",
    "    transforms.ToTensor()\n",
    "])\n",
    "\n",
    "dataset = TextDataset(images, image_ids, annotations, transform)"
   ]
  },
  {
   "cell_type": "code",
   "execution_count": 13,
   "metadata": {},
   "outputs": [
    {
     "name": "stdout",
     "output_type": "stream",
     "text": [
      "bboxes: [[84.94117736816406, 65.4582290649414, 95.26722717285156, 75.82785034179688], [247.14622497558594, 108.23291015625, 255.60000610351562, 134.15696716308594]]\n",
      "bbox_ids: [1058591, 1058590]\n",
      "centerpoints: [[90.10420227050781, 70.64303588867188], [251.37310791015625, 121.19493865966797]]\n",
      "image_id: [287140]\n"
     ]
    }
   ],
   "source": [
    "image, target = dataset[1]\n",
    "#print(image)\n",
    "for key, value in target.items():\n",
    "    if torch.is_tensor(value):\n",
    "        print(f\"{key}: {value.tolist()}\")\n",
    "    else:\n",
    "        print(f\"{key}: {value}\")"
   ]
  },
  {
   "cell_type": "code",
   "execution_count": 14,
   "metadata": {},
   "outputs": [],
   "source": [
    "def custom_collate_fn(batch):\n",
    "    images, targets = zip(*batch)\n",
    "    images = torch.stack(images)\n",
    "    return images, targets\n"
   ]
  },
  {
   "cell_type": "code",
   "execution_count": 15,
   "metadata": {},
   "outputs": [],
   "source": [
    "dataloader = DataLoader(dataset, batch_size=4, shuffle=True, collate_fn=custom_collate_fn)"
   ]
  },
  {
   "cell_type": "code",
   "execution_count": 16,
   "metadata": {},
   "outputs": [
    {
     "name": "stdout",
     "output_type": "stream",
     "text": [
      "tensor([[[[0.8196, 0.8039, 0.8235,  ..., 0.8902, 0.8863, 0.8706],\n",
      "          [0.8431, 0.8157, 0.8039,  ..., 0.8863, 0.8941, 0.8745],\n",
      "          [0.8235, 0.8157, 0.8078,  ..., 0.8863, 0.8941, 0.8863],\n",
      "          ...,\n",
      "          [0.8941, 0.8471, 0.8784,  ..., 0.9020, 0.8941, 0.8902],\n",
      "          [0.9059, 0.8863, 0.8627,  ..., 0.8941, 0.8902, 0.8824],\n",
      "          [0.9059, 0.8706, 0.8941,  ..., 0.8941, 0.8902, 0.8745]],\n",
      "\n",
      "         [[0.7294, 0.7137, 0.7333,  ..., 0.8275, 0.8235, 0.8078],\n",
      "          [0.7529, 0.7255, 0.7137,  ..., 0.8235, 0.8314, 0.8118],\n",
      "          [0.7333, 0.7255, 0.7176,  ..., 0.8235, 0.8314, 0.8235],\n",
      "          ...,\n",
      "          [0.7843, 0.7373, 0.7686,  ..., 0.8431, 0.8353, 0.8314],\n",
      "          [0.8000, 0.7804, 0.7569,  ..., 0.8353, 0.8314, 0.8235],\n",
      "          [0.8000, 0.7647, 0.7882,  ..., 0.8353, 0.8314, 0.8157]],\n",
      "\n",
      "         [[0.5647, 0.5490, 0.5686,  ..., 0.7255, 0.7216, 0.7059],\n",
      "          [0.5882, 0.5608, 0.5490,  ..., 0.7216, 0.7294, 0.7098],\n",
      "          [0.5686, 0.5608, 0.5529,  ..., 0.7216, 0.7294, 0.7216],\n",
      "          ...,\n",
      "          [0.5922, 0.5451, 0.5725,  ..., 0.7294, 0.7216, 0.7176],\n",
      "          [0.5961, 0.5765, 0.5529,  ..., 0.7216, 0.7176, 0.7098],\n",
      "          [0.5882, 0.5529, 0.5725,  ..., 0.7216, 0.7176, 0.7020]]],\n",
      "\n",
      "\n",
      "        [[[0.4196, 0.5020, 0.6941,  ..., 0.4824, 0.4627, 0.4588],\n",
      "          [0.4392, 0.4784, 0.6549,  ..., 0.4824, 0.4510, 0.4706],\n",
      "          [0.4824, 0.5333, 0.6824,  ..., 0.4745, 0.4431, 0.4706],\n",
      "          ...,\n",
      "          [0.9490, 0.9529, 0.9412,  ..., 0.8863, 0.9098, 0.9451],\n",
      "          [0.9373, 0.9451, 0.9490,  ..., 0.8745, 0.8902, 0.8980],\n",
      "          [0.9294, 0.9451, 0.9490,  ..., 0.9098, 0.8980, 0.8784]],\n",
      "\n",
      "         [[0.4392, 0.5255, 0.7412,  ..., 0.5098, 0.5020, 0.5098],\n",
      "          [0.4471, 0.4941, 0.7020,  ..., 0.5059, 0.4745, 0.5020],\n",
      "          [0.4745, 0.5373, 0.7216,  ..., 0.4980, 0.4706, 0.5059],\n",
      "          ...,\n",
      "          [0.8784, 0.8824, 0.8706,  ..., 0.8157, 0.8314, 0.8510],\n",
      "          [0.8745, 0.8784, 0.8784,  ..., 0.8039, 0.8118, 0.8078],\n",
      "          [0.8745, 0.8824, 0.8745,  ..., 0.8471, 0.8235, 0.8157]],\n",
      "\n",
      "         [[0.4157, 0.5294, 0.8196,  ..., 0.5804, 0.5569, 0.5569],\n",
      "          [0.4078, 0.4510, 0.7451,  ..., 0.5882, 0.5373, 0.5569],\n",
      "          [0.4588, 0.5294, 0.7882,  ..., 0.5608, 0.5216, 0.5529],\n",
      "          ...,\n",
      "          [0.8235, 0.8275, 0.8157,  ..., 0.7569, 0.7529, 0.7686],\n",
      "          [0.8235, 0.8196, 0.8235,  ..., 0.7451, 0.7373, 0.7333],\n",
      "          [0.8196, 0.8196, 0.8157,  ..., 0.7843, 0.7765, 0.7608]]],\n",
      "\n",
      "\n",
      "        [[[0.6392, 0.6510, 0.6549,  ..., 0.5961, 0.5922, 0.5765],\n",
      "          [0.6510, 0.6588, 0.6667,  ..., 0.6196, 0.6118, 0.6118],\n",
      "          [0.6627, 0.6667, 0.6706,  ..., 0.6353, 0.6353, 0.6353],\n",
      "          ...,\n",
      "          [0.0000, 0.0039, 0.0039,  ..., 0.4275, 0.4196, 0.4196],\n",
      "          [0.0000, 0.0039, 0.0000,  ..., 0.4314, 0.4392, 0.4275],\n",
      "          [0.0000, 0.0039, 0.0000,  ..., 0.4353, 0.4314, 0.4235]],\n",
      "\n",
      "         [[0.6980, 0.7059, 0.7098,  ..., 0.6392, 0.6314, 0.6196],\n",
      "          [0.7059, 0.7137, 0.7137,  ..., 0.6549, 0.6471, 0.6392],\n",
      "          [0.7176, 0.7216, 0.7216,  ..., 0.6667, 0.6588, 0.6549],\n",
      "          ...,\n",
      "          [0.0000, 0.0039, 0.0039,  ..., 0.0510, 0.0510, 0.0510],\n",
      "          [0.0000, 0.0039, 0.0000,  ..., 0.0627, 0.0745, 0.0706],\n",
      "          [0.0000, 0.0039, 0.0000,  ..., 0.0745, 0.0627, 0.0627]],\n",
      "\n",
      "         [[0.7490, 0.7569, 0.7608,  ..., 0.6431, 0.6392, 0.6275],\n",
      "          [0.7569, 0.7647, 0.7686,  ..., 0.6667, 0.6588, 0.6510],\n",
      "          [0.7647, 0.7686, 0.7686,  ..., 0.6784, 0.6745, 0.6706],\n",
      "          ...,\n",
      "          [0.0000, 0.0039, 0.0039,  ..., 0.0549, 0.0549, 0.0588],\n",
      "          [0.0000, 0.0039, 0.0000,  ..., 0.0667, 0.0745, 0.0706],\n",
      "          [0.0000, 0.0039, 0.0000,  ..., 0.0824, 0.0824, 0.0824]]],\n",
      "\n",
      "\n",
      "        [[[0.4431, 0.4588, 0.4706,  ..., 0.1098, 0.0431, 0.0353],\n",
      "          [0.4510, 0.4667, 0.4784,  ..., 0.1059, 0.0353, 0.0353],\n",
      "          [0.4588, 0.4667, 0.4745,  ..., 0.1137, 0.0314, 0.0314],\n",
      "          ...,\n",
      "          [0.1961, 0.1961, 0.1961,  ..., 0.1490, 0.0706, 0.0157],\n",
      "          [0.1961, 0.1882, 0.2235,  ..., 0.1490, 0.0824, 0.0118],\n",
      "          [0.2039, 0.2039, 0.2235,  ..., 0.1451, 0.0745, 0.0078]],\n",
      "\n",
      "         [[0.3882, 0.4000, 0.4118,  ..., 0.1255, 0.0980, 0.0980],\n",
      "          [0.3961, 0.4039, 0.4196,  ..., 0.1255, 0.1020, 0.0980],\n",
      "          [0.4000, 0.4078, 0.4157,  ..., 0.1333, 0.1059, 0.1020],\n",
      "          ...,\n",
      "          [0.2392, 0.2471, 0.2392,  ..., 0.1647, 0.1608, 0.1608],\n",
      "          [0.2510, 0.2392, 0.2510,  ..., 0.1569, 0.1608, 0.1490],\n",
      "          [0.2431, 0.2510, 0.2588,  ..., 0.1490, 0.1490, 0.1490]],\n",
      "\n",
      "         [[0.2627, 0.2667, 0.2667,  ..., 0.0902, 0.0902, 0.0745],\n",
      "          [0.2588, 0.2667, 0.2667,  ..., 0.0941, 0.0941, 0.0824],\n",
      "          [0.2588, 0.2627, 0.2627,  ..., 0.0980, 0.0863, 0.0824],\n",
      "          ...,\n",
      "          [0.2824, 0.2902, 0.2824,  ..., 0.2078, 0.2235, 0.2353],\n",
      "          [0.2941, 0.2902, 0.3059,  ..., 0.1961, 0.2196, 0.2275],\n",
      "          [0.2980, 0.3020, 0.3098,  ..., 0.1882, 0.2078, 0.2196]]]])\n",
      "({'bboxes': tensor([[ 92.7859, 180.6428, 109.9559, 200.1991]]), 'bbox_ids': tensor([1138358]), 'centerpoints': tensor([[101.3709, 190.4210]]), 'image_id': tensor([19397])}, {'bboxes': tensor([[ 84.9412,  65.4582,  95.2672,  75.8279],\n",
      "        [247.1462, 108.2329, 255.6000, 134.1570]]), 'bbox_ids': tensor([1058591, 1058590]), 'centerpoints': tensor([[ 90.1042,  70.6430],\n",
      "        [251.3731, 121.1949]]), 'image_id': tensor([287140])}, {'bboxes': tensor([[30.8724, 73.5595, 49.4019, 85.2253],\n",
      "        [49.4516, 51.2638, 69.0554, 59.1369]]), 'bbox_ids': tensor([1059039, 1059038]), 'centerpoints': tensor([[40.1371, 79.3924],\n",
      "        [59.2535, 55.2004]]), 'image_id': tensor([286892])}, {'bboxes': tensor([[ 43.2000,  63.2471,  98.4000,  85.5341],\n",
      "        [106.4000,  63.2471, 179.6000,  85.5341],\n",
      "        [172.7532, 198.1726, 222.8308, 222.2132],\n",
      "        [154.4098, 140.0276, 160.5275, 148.1830],\n",
      "        [153.8350, 123.6551, 159.1822, 140.6550],\n",
      "        [154.0222, 152.8220, 162.2973, 166.0318]]), 'bbox_ids': tensor([1005864, 1005863, 1143254, 1209515, 1209514, 1209513]), 'centerpoints': tensor([[ 70.8000,  74.3906],\n",
      "        [143.0000,  74.3906],\n",
      "        [197.7920, 210.1929],\n",
      "        [157.4686, 144.1053],\n",
      "        [156.5086, 132.1550],\n",
      "        [158.1598, 159.4268]]), 'image_id': tensor([370258])})\n"
     ]
    }
   ],
   "source": [
    "for batch_idx, (data, target) in enumerate(dataloader):\n",
    "    if batch_idx == 0:\n",
    "        print(data)\n",
    "        print(target)\n",
    "        break\n"
   ]
  },
  {
   "cell_type": "code",
   "execution_count": 17,
   "metadata": {},
   "outputs": [],
   "source": [
    "def apply_nms(pred_bboxes, pred_scores, iou_threshold=0.5):\n",
    "\n",
    "    keep = nms(pred_bboxes, pred_scores, iou_threshold)\n",
    "    return pred_bboxes[keep], pred_scores[keep]"
   ]
  },
  {
   "cell_type": "markdown",
   "metadata": {},
   "source": []
  },
  {
   "cell_type": "code",
   "execution_count": 19,
   "metadata": {},
   "outputs": [],
   "source": [
    "class PlaceholderLoss(nn.Module):\n",
    "    def __init__(self):\n",
    "        super(PlaceholderLoss, self).__init__()\n",
    "        self.loss_fn = nn.SmoothL1Loss()\n",
    "\n",
    "    def forward(self, preds, targets):\n",
    "\n",
    "        total_loss = torch.tensor(0.0, device=preds[0].device, requires_grad=True)\n",
    "\n",
    "        for pred, target in zip(preds, targets):\n",
    "            gt_bboxes = target['bboxes']\n",
    "            if gt_bboxes.numel() == 0:\n",
    "                continue\n",
    "            \n",
    "            #flatten predictions and targets\n",
    "            pred = pred.permute(0, 2, 3, 1).contiguous().view(-1, 4)\n",
    "            gt_bboxes = gt_bboxes.view(-1, 4)\n",
    "\n",
    "            #ensure tensors have the same number of boxes\n",
    "            num_boxes = min(pred.size(0), gt_bboxes.size(0))\n",
    "            pred = pred[:num_boxes]\n",
    "            gt_bboxes = gt_bboxes[:num_boxes]\n",
    "\n",
    "\n",
    "            loss = self.loss_fn(pred, gt_bboxes)\n",
    "            total_loss = loss + total_loss\n",
    "\n",
    "        return total_loss\n"
   ]
  },
  {
   "cell_type": "code",
   "execution_count": 20,
   "metadata": {},
   "outputs": [],
   "source": [
    "model = TextDetector(backbone, fpn, regression_head)\n",
    "device = torch.device(\"cuda\" if torch.cuda.is_available() else \"cpu\")\n",
    "model.to(device)\n",
    "\n",
    "criterion = PlaceholderLoss()\n",
    "optimizer = optim.Adam(model.parameters(), lr=0.001)\n",
    "def train_model(model, dataloader, criterion, optimizer, num_epochs=5):\n",
    "    model.train()\n",
    "\n",
    "    for epoch in range(num_epochs):\n",
    "        epoch_loss = 0.0\n",
    "\n",
    "        for images, targets in tqdm(dataloader, desc=f\"Epoch {epoch+1}/{num_epochs}\"):\n",
    "            images = images.to(device)\n",
    "            targets = [{k: v.to(device) for k, v in t.items()} for t in targets]\n",
    "\n",
    "\n",
    "            optimizer.zero_grad()\n",
    "            outputs = model(images)\n",
    "\n",
    "            loss = criterion(outputs, targets)\n",
    "\n",
    "            if torch.is_tensor(loss):\n",
    "                epoch_loss += loss.item()\n",
    "            else:\n",
    "                print(\"loss is not a tensor. check loss function.\")\n",
    "                continue\n",
    "\n",
    "            loss.backward()\n",
    "            optimizer.step()\n",
    "\n",
    "        print(f\"Epoch {epoch+1} Loss: {epoch_loss:.4f}\")\n",
    "\n"
   ]
  },
  {
   "cell_type": "code",
   "execution_count": 21,
   "metadata": {},
   "outputs": [
    {
     "name": "stderr",
     "output_type": "stream",
     "text": [
      "Epoch 1/100: 100%|██████████| 5/5 [00:00<00:00, 13.74it/s]\n"
     ]
    },
    {
     "name": "stdout",
     "output_type": "stream",
     "text": [
      "Epoch 1 Loss: 845.1751\n"
     ]
    },
    {
     "name": "stderr",
     "output_type": "stream",
     "text": [
      "Epoch 2/100: 100%|██████████| 5/5 [00:00<00:00, 46.96it/s]\n"
     ]
    },
    {
     "name": "stdout",
     "output_type": "stream",
     "text": [
      "Epoch 2 Loss: 628.5035\n"
     ]
    },
    {
     "name": "stderr",
     "output_type": "stream",
     "text": [
      "Epoch 3/100: 100%|██████████| 5/5 [00:00<00:00, 45.78it/s]\n"
     ]
    },
    {
     "name": "stdout",
     "output_type": "stream",
     "text": [
      "Epoch 3 Loss: 624.3097\n"
     ]
    },
    {
     "name": "stderr",
     "output_type": "stream",
     "text": [
      "Epoch 4/100: 100%|██████████| 5/5 [00:00<00:00, 45.40it/s]\n"
     ]
    },
    {
     "name": "stdout",
     "output_type": "stream",
     "text": [
      "Epoch 4 Loss: 464.4628\n"
     ]
    },
    {
     "name": "stderr",
     "output_type": "stream",
     "text": [
      "Epoch 5/100: 100%|██████████| 5/5 [00:00<00:00, 50.92it/s]\n"
     ]
    },
    {
     "name": "stdout",
     "output_type": "stream",
     "text": [
      "Epoch 5 Loss: 619.2934\n"
     ]
    },
    {
     "name": "stderr",
     "output_type": "stream",
     "text": [
      "Epoch 6/100: 100%|██████████| 5/5 [00:00<00:00, 50.83it/s]\n"
     ]
    },
    {
     "name": "stdout",
     "output_type": "stream",
     "text": [
      "Epoch 6 Loss: 520.5597\n"
     ]
    },
    {
     "name": "stderr",
     "output_type": "stream",
     "text": [
      "Epoch 7/100: 100%|██████████| 5/5 [00:00<00:00, 47.74it/s]\n"
     ]
    },
    {
     "name": "stdout",
     "output_type": "stream",
     "text": [
      "Epoch 7 Loss: 586.4984\n"
     ]
    },
    {
     "name": "stderr",
     "output_type": "stream",
     "text": [
      "Epoch 8/100: 100%|██████████| 5/5 [00:00<00:00, 45.38it/s]\n"
     ]
    },
    {
     "name": "stdout",
     "output_type": "stream",
     "text": [
      "Epoch 8 Loss: 353.3409\n"
     ]
    },
    {
     "name": "stderr",
     "output_type": "stream",
     "text": [
      "Epoch 9/100: 100%|██████████| 5/5 [00:00<00:00, 50.72it/s]\n"
     ]
    },
    {
     "name": "stdout",
     "output_type": "stream",
     "text": [
      "Epoch 9 Loss: 406.2887\n"
     ]
    },
    {
     "name": "stderr",
     "output_type": "stream",
     "text": [
      "Epoch 10/100: 100%|██████████| 5/5 [00:00<00:00, 47.60it/s]\n"
     ]
    },
    {
     "name": "stdout",
     "output_type": "stream",
     "text": [
      "Epoch 10 Loss: 529.8847\n"
     ]
    },
    {
     "name": "stderr",
     "output_type": "stream",
     "text": [
      "Epoch 11/100: 100%|██████████| 5/5 [00:00<00:00, 49.47it/s]\n"
     ]
    },
    {
     "name": "stdout",
     "output_type": "stream",
     "text": [
      "Epoch 11 Loss: 479.1245\n"
     ]
    },
    {
     "name": "stderr",
     "output_type": "stream",
     "text": [
      "Epoch 12/100: 100%|██████████| 5/5 [00:00<00:00, 46.68it/s]\n"
     ]
    },
    {
     "name": "stdout",
     "output_type": "stream",
     "text": [
      "Epoch 12 Loss: 503.3987\n"
     ]
    },
    {
     "name": "stderr",
     "output_type": "stream",
     "text": [
      "Epoch 13/100: 100%|██████████| 5/5 [00:00<00:00, 54.41it/s]\n"
     ]
    },
    {
     "name": "stdout",
     "output_type": "stream",
     "text": [
      "Epoch 13 Loss: 532.9282\n"
     ]
    },
    {
     "name": "stderr",
     "output_type": "stream",
     "text": [
      "Epoch 14/100: 100%|██████████| 5/5 [00:00<00:00, 45.01it/s]\n"
     ]
    },
    {
     "name": "stdout",
     "output_type": "stream",
     "text": [
      "Epoch 14 Loss: 384.2220\n"
     ]
    },
    {
     "name": "stderr",
     "output_type": "stream",
     "text": [
      "Epoch 15/100: 100%|██████████| 5/5 [00:00<00:00, 50.51it/s]\n"
     ]
    },
    {
     "name": "stdout",
     "output_type": "stream",
     "text": [
      "Epoch 15 Loss: 530.6749\n"
     ]
    },
    {
     "name": "stderr",
     "output_type": "stream",
     "text": [
      "Epoch 16/100: 100%|██████████| 5/5 [00:00<00:00, 45.61it/s]\n"
     ]
    },
    {
     "name": "stdout",
     "output_type": "stream",
     "text": [
      "Epoch 16 Loss: 478.7001\n"
     ]
    },
    {
     "name": "stderr",
     "output_type": "stream",
     "text": [
      "Epoch 17/100: 100%|██████████| 5/5 [00:00<00:00, 48.94it/s]\n"
     ]
    },
    {
     "name": "stdout",
     "output_type": "stream",
     "text": [
      "Epoch 17 Loss: 388.9005\n"
     ]
    },
    {
     "name": "stderr",
     "output_type": "stream",
     "text": [
      "Epoch 18/100: 100%|██████████| 5/5 [00:00<00:00, 49.88it/s]\n"
     ]
    },
    {
     "name": "stdout",
     "output_type": "stream",
     "text": [
      "Epoch 18 Loss: 521.3321\n"
     ]
    },
    {
     "name": "stderr",
     "output_type": "stream",
     "text": [
      "Epoch 19/100: 100%|██████████| 5/5 [00:00<00:00, 47.60it/s]\n"
     ]
    },
    {
     "name": "stdout",
     "output_type": "stream",
     "text": [
      "Epoch 19 Loss: 437.4637\n"
     ]
    },
    {
     "name": "stderr",
     "output_type": "stream",
     "text": [
      "Epoch 20/100: 100%|██████████| 5/5 [00:00<00:00, 47.89it/s]\n"
     ]
    },
    {
     "name": "stdout",
     "output_type": "stream",
     "text": [
      "Epoch 20 Loss: 487.1763\n"
     ]
    },
    {
     "name": "stderr",
     "output_type": "stream",
     "text": [
      "Epoch 21/100: 100%|██████████| 5/5 [00:00<00:00, 46.66it/s]\n"
     ]
    },
    {
     "name": "stdout",
     "output_type": "stream",
     "text": [
      "Epoch 21 Loss: 443.2177\n"
     ]
    },
    {
     "name": "stderr",
     "output_type": "stream",
     "text": [
      "Epoch 22/100: 100%|██████████| 5/5 [00:00<00:00, 49.91it/s]\n"
     ]
    },
    {
     "name": "stdout",
     "output_type": "stream",
     "text": [
      "Epoch 22 Loss: 354.1423\n"
     ]
    },
    {
     "name": "stderr",
     "output_type": "stream",
     "text": [
      "Epoch 23/100: 100%|██████████| 5/5 [00:00<00:00, 52.29it/s]\n"
     ]
    },
    {
     "name": "stdout",
     "output_type": "stream",
     "text": [
      "Epoch 23 Loss: 393.7878\n"
     ]
    },
    {
     "name": "stderr",
     "output_type": "stream",
     "text": [
      "Epoch 24/100: 100%|██████████| 5/5 [00:00<00:00, 45.37it/s]\n"
     ]
    },
    {
     "name": "stdout",
     "output_type": "stream",
     "text": [
      "Epoch 24 Loss: 483.2372\n"
     ]
    },
    {
     "name": "stderr",
     "output_type": "stream",
     "text": [
      "Epoch 25/100: 100%|██████████| 5/5 [00:00<00:00, 47.60it/s]\n"
     ]
    },
    {
     "name": "stdout",
     "output_type": "stream",
     "text": [
      "Epoch 25 Loss: 527.3003\n"
     ]
    },
    {
     "name": "stderr",
     "output_type": "stream",
     "text": [
      "Epoch 26/100: 100%|██████████| 5/5 [00:00<00:00, 45.56it/s]\n"
     ]
    },
    {
     "name": "stdout",
     "output_type": "stream",
     "text": [
      "Epoch 26 Loss: 511.9837\n"
     ]
    },
    {
     "name": "stderr",
     "output_type": "stream",
     "text": [
      "Epoch 27/100: 100%|██████████| 5/5 [00:00<00:00, 47.04it/s]\n"
     ]
    },
    {
     "name": "stdout",
     "output_type": "stream",
     "text": [
      "Epoch 27 Loss: 347.0361\n"
     ]
    },
    {
     "name": "stderr",
     "output_type": "stream",
     "text": [
      "Epoch 28/100: 100%|██████████| 5/5 [00:00<00:00, 45.56it/s]\n"
     ]
    },
    {
     "name": "stdout",
     "output_type": "stream",
     "text": [
      "Epoch 28 Loss: 435.5194\n"
     ]
    },
    {
     "name": "stderr",
     "output_type": "stream",
     "text": [
      "Epoch 29/100: 100%|██████████| 5/5 [00:00<00:00, 43.65it/s]\n"
     ]
    },
    {
     "name": "stdout",
     "output_type": "stream",
     "text": [
      "Epoch 29 Loss: 492.2942\n"
     ]
    },
    {
     "name": "stderr",
     "output_type": "stream",
     "text": [
      "Epoch 30/100: 100%|██████████| 5/5 [00:00<00:00, 48.01it/s]\n"
     ]
    },
    {
     "name": "stdout",
     "output_type": "stream",
     "text": [
      "Epoch 30 Loss: 390.5235\n"
     ]
    },
    {
     "name": "stderr",
     "output_type": "stream",
     "text": [
      "Epoch 31/100: 100%|██████████| 5/5 [00:00<00:00, 48.22it/s]\n"
     ]
    },
    {
     "name": "stdout",
     "output_type": "stream",
     "text": [
      "Epoch 31 Loss: 379.7443\n"
     ]
    },
    {
     "name": "stderr",
     "output_type": "stream",
     "text": [
      "Epoch 32/100: 100%|██████████| 5/5 [00:00<00:00, 47.18it/s]\n"
     ]
    },
    {
     "name": "stdout",
     "output_type": "stream",
     "text": [
      "Epoch 32 Loss: 425.8162\n"
     ]
    },
    {
     "name": "stderr",
     "output_type": "stream",
     "text": [
      "Epoch 33/100: 100%|██████████| 5/5 [00:00<00:00, 46.39it/s]\n"
     ]
    },
    {
     "name": "stdout",
     "output_type": "stream",
     "text": [
      "Epoch 33 Loss: 356.1535\n"
     ]
    },
    {
     "name": "stderr",
     "output_type": "stream",
     "text": [
      "Epoch 34/100: 100%|██████████| 5/5 [00:00<00:00, 46.95it/s]\n"
     ]
    },
    {
     "name": "stdout",
     "output_type": "stream",
     "text": [
      "Epoch 34 Loss: 415.0287\n"
     ]
    },
    {
     "name": "stderr",
     "output_type": "stream",
     "text": [
      "Epoch 35/100: 100%|██████████| 5/5 [00:00<00:00, 45.42it/s]\n"
     ]
    },
    {
     "name": "stdout",
     "output_type": "stream",
     "text": [
      "Epoch 35 Loss: 393.2734\n"
     ]
    },
    {
     "name": "stderr",
     "output_type": "stream",
     "text": [
      "Epoch 36/100: 100%|██████████| 5/5 [00:00<00:00, 47.29it/s]\n"
     ]
    },
    {
     "name": "stdout",
     "output_type": "stream",
     "text": [
      "Epoch 36 Loss: 383.0198\n"
     ]
    },
    {
     "name": "stderr",
     "output_type": "stream",
     "text": [
      "Epoch 37/100: 100%|██████████| 5/5 [00:00<00:00, 48.61it/s]\n"
     ]
    },
    {
     "name": "stdout",
     "output_type": "stream",
     "text": [
      "Epoch 37 Loss: 342.6495\n"
     ]
    },
    {
     "name": "stderr",
     "output_type": "stream",
     "text": [
      "Epoch 38/100: 100%|██████████| 5/5 [00:00<00:00, 47.60it/s]\n"
     ]
    },
    {
     "name": "stdout",
     "output_type": "stream",
     "text": [
      "Epoch 38 Loss: 328.2175\n"
     ]
    },
    {
     "name": "stderr",
     "output_type": "stream",
     "text": [
      "Epoch 39/100: 100%|██████████| 5/5 [00:00<00:00, 51.24it/s]\n"
     ]
    },
    {
     "name": "stdout",
     "output_type": "stream",
     "text": [
      "Epoch 39 Loss: 361.4810\n"
     ]
    },
    {
     "name": "stderr",
     "output_type": "stream",
     "text": [
      "Epoch 40/100: 100%|██████████| 5/5 [00:00<00:00, 49.78it/s]\n"
     ]
    },
    {
     "name": "stdout",
     "output_type": "stream",
     "text": [
      "Epoch 40 Loss: 524.5684\n"
     ]
    },
    {
     "name": "stderr",
     "output_type": "stream",
     "text": [
      "Epoch 41/100: 100%|██████████| 5/5 [00:00<00:00, 49.44it/s]\n"
     ]
    },
    {
     "name": "stdout",
     "output_type": "stream",
     "text": [
      "Epoch 41 Loss: 335.0968\n"
     ]
    },
    {
     "name": "stderr",
     "output_type": "stream",
     "text": [
      "Epoch 42/100: 100%|██████████| 5/5 [00:00<00:00, 53.08it/s]\n"
     ]
    },
    {
     "name": "stdout",
     "output_type": "stream",
     "text": [
      "Epoch 42 Loss: 425.5906\n"
     ]
    },
    {
     "name": "stderr",
     "output_type": "stream",
     "text": [
      "Epoch 43/100: 100%|██████████| 5/5 [00:00<00:00, 48.59it/s]\n"
     ]
    },
    {
     "name": "stdout",
     "output_type": "stream",
     "text": [
      "Epoch 43 Loss: 388.0666\n"
     ]
    },
    {
     "name": "stderr",
     "output_type": "stream",
     "text": [
      "Epoch 44/100: 100%|██████████| 5/5 [00:00<00:00, 48.41it/s]\n"
     ]
    },
    {
     "name": "stdout",
     "output_type": "stream",
     "text": [
      "Epoch 44 Loss: 380.7127\n"
     ]
    },
    {
     "name": "stderr",
     "output_type": "stream",
     "text": [
      "Epoch 45/100: 100%|██████████| 5/5 [00:00<00:00, 48.62it/s]\n"
     ]
    },
    {
     "name": "stdout",
     "output_type": "stream",
     "text": [
      "Epoch 45 Loss: 361.1398\n"
     ]
    },
    {
     "name": "stderr",
     "output_type": "stream",
     "text": [
      "Epoch 46/100: 100%|██████████| 5/5 [00:00<00:00, 46.70it/s]\n"
     ]
    },
    {
     "name": "stdout",
     "output_type": "stream",
     "text": [
      "Epoch 46 Loss: 435.0379\n"
     ]
    },
    {
     "name": "stderr",
     "output_type": "stream",
     "text": [
      "Epoch 47/100: 100%|██████████| 5/5 [00:00<00:00, 53.32it/s]\n"
     ]
    },
    {
     "name": "stdout",
     "output_type": "stream",
     "text": [
      "Epoch 47 Loss: 415.8655\n"
     ]
    },
    {
     "name": "stderr",
     "output_type": "stream",
     "text": [
      "Epoch 48/100: 100%|██████████| 5/5 [00:00<00:00, 46.94it/s]\n"
     ]
    },
    {
     "name": "stdout",
     "output_type": "stream",
     "text": [
      "Epoch 48 Loss: 425.6159\n"
     ]
    },
    {
     "name": "stderr",
     "output_type": "stream",
     "text": [
      "Epoch 49/100: 100%|██████████| 5/5 [00:00<00:00, 44.78it/s]\n"
     ]
    },
    {
     "name": "stdout",
     "output_type": "stream",
     "text": [
      "Epoch 49 Loss: 346.3563\n"
     ]
    },
    {
     "name": "stderr",
     "output_type": "stream",
     "text": [
      "Epoch 50/100: 100%|██████████| 5/5 [00:00<00:00, 50.53it/s]\n"
     ]
    },
    {
     "name": "stdout",
     "output_type": "stream",
     "text": [
      "Epoch 50 Loss: 285.5910\n"
     ]
    },
    {
     "name": "stderr",
     "output_type": "stream",
     "text": [
      "Epoch 51/100: 100%|██████████| 5/5 [00:00<00:00, 47.72it/s]\n"
     ]
    },
    {
     "name": "stdout",
     "output_type": "stream",
     "text": [
      "Epoch 51 Loss: 315.0741\n"
     ]
    },
    {
     "name": "stderr",
     "output_type": "stream",
     "text": [
      "Epoch 52/100: 100%|██████████| 5/5 [00:00<00:00, 50.37it/s]\n"
     ]
    },
    {
     "name": "stdout",
     "output_type": "stream",
     "text": [
      "Epoch 52 Loss: 320.0676\n"
     ]
    },
    {
     "name": "stderr",
     "output_type": "stream",
     "text": [
      "Epoch 53/100: 100%|██████████| 5/5 [00:00<00:00, 45.78it/s]\n"
     ]
    },
    {
     "name": "stdout",
     "output_type": "stream",
     "text": [
      "Epoch 53 Loss: 382.0711\n"
     ]
    },
    {
     "name": "stderr",
     "output_type": "stream",
     "text": [
      "Epoch 54/100: 100%|██████████| 5/5 [00:00<00:00, 51.22it/s]\n"
     ]
    },
    {
     "name": "stdout",
     "output_type": "stream",
     "text": [
      "Epoch 54 Loss: 318.2392\n"
     ]
    },
    {
     "name": "stderr",
     "output_type": "stream",
     "text": [
      "Epoch 55/100: 100%|██████████| 5/5 [00:00<00:00, 50.44it/s]\n"
     ]
    },
    {
     "name": "stdout",
     "output_type": "stream",
     "text": [
      "Epoch 55 Loss: 376.4922\n"
     ]
    },
    {
     "name": "stderr",
     "output_type": "stream",
     "text": [
      "Epoch 56/100: 100%|██████████| 5/5 [00:00<00:00, 44.98it/s]\n"
     ]
    },
    {
     "name": "stdout",
     "output_type": "stream",
     "text": [
      "Epoch 56 Loss: 387.1541\n"
     ]
    },
    {
     "name": "stderr",
     "output_type": "stream",
     "text": [
      "Epoch 57/100: 100%|██████████| 5/5 [00:00<00:00, 46.35it/s]\n"
     ]
    },
    {
     "name": "stdout",
     "output_type": "stream",
     "text": [
      "Epoch 57 Loss: 320.2373\n"
     ]
    },
    {
     "name": "stderr",
     "output_type": "stream",
     "text": [
      "Epoch 58/100: 100%|██████████| 5/5 [00:00<00:00, 45.61it/s]\n"
     ]
    },
    {
     "name": "stdout",
     "output_type": "stream",
     "text": [
      "Epoch 58 Loss: 379.1089\n"
     ]
    },
    {
     "name": "stderr",
     "output_type": "stream",
     "text": [
      "Epoch 59/100: 100%|██████████| 5/5 [00:00<00:00, 51.15it/s]\n"
     ]
    },
    {
     "name": "stdout",
     "output_type": "stream",
     "text": [
      "Epoch 59 Loss: 333.4081\n"
     ]
    },
    {
     "name": "stderr",
     "output_type": "stream",
     "text": [
      "Epoch 60/100: 100%|██████████| 5/5 [00:00<00:00, 45.38it/s]\n"
     ]
    },
    {
     "name": "stdout",
     "output_type": "stream",
     "text": [
      "Epoch 60 Loss: 364.9446\n"
     ]
    },
    {
     "name": "stderr",
     "output_type": "stream",
     "text": [
      "Epoch 61/100: 100%|██████████| 5/5 [00:00<00:00, 46.97it/s]\n"
     ]
    },
    {
     "name": "stdout",
     "output_type": "stream",
     "text": [
      "Epoch 61 Loss: 367.1733\n"
     ]
    },
    {
     "name": "stderr",
     "output_type": "stream",
     "text": [
      "Epoch 62/100: 100%|██████████| 5/5 [00:00<00:00, 44.14it/s]\n"
     ]
    },
    {
     "name": "stdout",
     "output_type": "stream",
     "text": [
      "Epoch 62 Loss: 339.5934\n"
     ]
    },
    {
     "name": "stderr",
     "output_type": "stream",
     "text": [
      "Epoch 63/100: 100%|██████████| 5/5 [00:00<00:00, 45.56it/s]\n"
     ]
    },
    {
     "name": "stdout",
     "output_type": "stream",
     "text": [
      "Epoch 63 Loss: 370.3253\n"
     ]
    },
    {
     "name": "stderr",
     "output_type": "stream",
     "text": [
      "Epoch 64/100: 100%|██████████| 5/5 [00:00<00:00, 47.42it/s]\n"
     ]
    },
    {
     "name": "stdout",
     "output_type": "stream",
     "text": [
      "Epoch 64 Loss: 400.6901\n"
     ]
    },
    {
     "name": "stderr",
     "output_type": "stream",
     "text": [
      "Epoch 65/100: 100%|██████████| 5/5 [00:00<00:00, 45.86it/s]\n"
     ]
    },
    {
     "name": "stdout",
     "output_type": "stream",
     "text": [
      "Epoch 65 Loss: 384.4312\n"
     ]
    },
    {
     "name": "stderr",
     "output_type": "stream",
     "text": [
      "Epoch 66/100: 100%|██████████| 5/5 [00:00<00:00, 44.22it/s]\n"
     ]
    },
    {
     "name": "stdout",
     "output_type": "stream",
     "text": [
      "Epoch 66 Loss: 352.8907\n"
     ]
    },
    {
     "name": "stderr",
     "output_type": "stream",
     "text": [
      "Epoch 67/100: 100%|██████████| 5/5 [00:00<00:00, 44.92it/s]\n"
     ]
    },
    {
     "name": "stdout",
     "output_type": "stream",
     "text": [
      "Epoch 67 Loss: 400.1092\n"
     ]
    },
    {
     "name": "stderr",
     "output_type": "stream",
     "text": [
      "Epoch 68/100: 100%|██████████| 5/5 [00:00<00:00, 49.11it/s]\n"
     ]
    },
    {
     "name": "stdout",
     "output_type": "stream",
     "text": [
      "Epoch 68 Loss: 378.2986\n"
     ]
    },
    {
     "name": "stderr",
     "output_type": "stream",
     "text": [
      "Epoch 69/100: 100%|██████████| 5/5 [00:00<00:00, 48.03it/s]\n"
     ]
    },
    {
     "name": "stdout",
     "output_type": "stream",
     "text": [
      "Epoch 69 Loss: 529.7682\n"
     ]
    },
    {
     "name": "stderr",
     "output_type": "stream",
     "text": [
      "Epoch 70/100: 100%|██████████| 5/5 [00:00<00:00, 45.41it/s]\n"
     ]
    },
    {
     "name": "stdout",
     "output_type": "stream",
     "text": [
      "Epoch 70 Loss: 491.1417\n"
     ]
    },
    {
     "name": "stderr",
     "output_type": "stream",
     "text": [
      "Epoch 71/100: 100%|██████████| 5/5 [00:00<00:00, 47.25it/s]\n"
     ]
    },
    {
     "name": "stdout",
     "output_type": "stream",
     "text": [
      "Epoch 71 Loss: 445.9926\n"
     ]
    },
    {
     "name": "stderr",
     "output_type": "stream",
     "text": [
      "Epoch 72/100: 100%|██████████| 5/5 [00:00<00:00, 50.05it/s]\n"
     ]
    },
    {
     "name": "stdout",
     "output_type": "stream",
     "text": [
      "Epoch 72 Loss: 344.6367\n"
     ]
    },
    {
     "name": "stderr",
     "output_type": "stream",
     "text": [
      "Epoch 73/100: 100%|██████████| 5/5 [00:00<00:00, 50.86it/s]\n"
     ]
    },
    {
     "name": "stdout",
     "output_type": "stream",
     "text": [
      "Epoch 73 Loss: 374.7246\n"
     ]
    },
    {
     "name": "stderr",
     "output_type": "stream",
     "text": [
      "Epoch 74/100: 100%|██████████| 5/5 [00:00<00:00, 45.73it/s]\n"
     ]
    },
    {
     "name": "stdout",
     "output_type": "stream",
     "text": [
      "Epoch 74 Loss: 377.2484\n"
     ]
    },
    {
     "name": "stderr",
     "output_type": "stream",
     "text": [
      "Epoch 75/100: 100%|██████████| 5/5 [00:00<00:00, 49.33it/s]\n"
     ]
    },
    {
     "name": "stdout",
     "output_type": "stream",
     "text": [
      "Epoch 75 Loss: 320.8441\n"
     ]
    },
    {
     "name": "stderr",
     "output_type": "stream",
     "text": [
      "Epoch 76/100: 100%|██████████| 5/5 [00:00<00:00, 48.41it/s]\n"
     ]
    },
    {
     "name": "stdout",
     "output_type": "stream",
     "text": [
      "Epoch 76 Loss: 289.9293\n"
     ]
    },
    {
     "name": "stderr",
     "output_type": "stream",
     "text": [
      "Epoch 77/100: 100%|██████████| 5/5 [00:00<00:00, 47.73it/s]\n"
     ]
    },
    {
     "name": "stdout",
     "output_type": "stream",
     "text": [
      "Epoch 77 Loss: 300.2247\n"
     ]
    },
    {
     "name": "stderr",
     "output_type": "stream",
     "text": [
      "Epoch 78/100: 100%|██████████| 5/5 [00:00<00:00, 51.26it/s]\n"
     ]
    },
    {
     "name": "stdout",
     "output_type": "stream",
     "text": [
      "Epoch 78 Loss: 350.5905\n"
     ]
    },
    {
     "name": "stderr",
     "output_type": "stream",
     "text": [
      "Epoch 79/100: 100%|██████████| 5/5 [00:00<00:00, 49.25it/s]\n"
     ]
    },
    {
     "name": "stdout",
     "output_type": "stream",
     "text": [
      "Epoch 79 Loss: 360.9907\n"
     ]
    },
    {
     "name": "stderr",
     "output_type": "stream",
     "text": [
      "Epoch 80/100: 100%|██████████| 5/5 [00:00<00:00, 51.02it/s]\n"
     ]
    },
    {
     "name": "stdout",
     "output_type": "stream",
     "text": [
      "Epoch 80 Loss: 432.1877\n"
     ]
    },
    {
     "name": "stderr",
     "output_type": "stream",
     "text": [
      "Epoch 81/100: 100%|██████████| 5/5 [00:00<00:00, 48.31it/s]\n"
     ]
    },
    {
     "name": "stdout",
     "output_type": "stream",
     "text": [
      "Epoch 81 Loss: 346.8521\n"
     ]
    },
    {
     "name": "stderr",
     "output_type": "stream",
     "text": [
      "Epoch 82/100: 100%|██████████| 5/5 [00:00<00:00, 52.27it/s]\n"
     ]
    },
    {
     "name": "stdout",
     "output_type": "stream",
     "text": [
      "Epoch 82 Loss: 340.6423\n"
     ]
    },
    {
     "name": "stderr",
     "output_type": "stream",
     "text": [
      "Epoch 83/100: 100%|██████████| 5/5 [00:00<00:00, 51.19it/s]\n"
     ]
    },
    {
     "name": "stdout",
     "output_type": "stream",
     "text": [
      "Epoch 83 Loss: 358.2248\n"
     ]
    },
    {
     "name": "stderr",
     "output_type": "stream",
     "text": [
      "Epoch 84/100: 100%|██████████| 5/5 [00:00<00:00, 49.37it/s]\n"
     ]
    },
    {
     "name": "stdout",
     "output_type": "stream",
     "text": [
      "Epoch 84 Loss: 446.2288\n"
     ]
    },
    {
     "name": "stderr",
     "output_type": "stream",
     "text": [
      "Epoch 85/100: 100%|██████████| 5/5 [00:00<00:00, 47.65it/s]\n"
     ]
    },
    {
     "name": "stdout",
     "output_type": "stream",
     "text": [
      "Epoch 85 Loss: 393.9849\n"
     ]
    },
    {
     "name": "stderr",
     "output_type": "stream",
     "text": [
      "Epoch 86/100: 100%|██████████| 5/5 [00:00<00:00, 48.78it/s]\n"
     ]
    },
    {
     "name": "stdout",
     "output_type": "stream",
     "text": [
      "Epoch 86 Loss: 347.1633\n"
     ]
    },
    {
     "name": "stderr",
     "output_type": "stream",
     "text": [
      "Epoch 87/100: 100%|██████████| 5/5 [00:00<00:00, 50.54it/s]\n"
     ]
    },
    {
     "name": "stdout",
     "output_type": "stream",
     "text": [
      "Epoch 87 Loss: 446.5745\n"
     ]
    },
    {
     "name": "stderr",
     "output_type": "stream",
     "text": [
      "Epoch 88/100: 100%|██████████| 5/5 [00:00<00:00, 50.43it/s]\n"
     ]
    },
    {
     "name": "stdout",
     "output_type": "stream",
     "text": [
      "Epoch 88 Loss: 366.6608\n"
     ]
    },
    {
     "name": "stderr",
     "output_type": "stream",
     "text": [
      "Epoch 89/100: 100%|██████████| 5/5 [00:00<00:00, 50.95it/s]\n"
     ]
    },
    {
     "name": "stdout",
     "output_type": "stream",
     "text": [
      "Epoch 89 Loss: 414.4772\n"
     ]
    },
    {
     "name": "stderr",
     "output_type": "stream",
     "text": [
      "Epoch 90/100: 100%|██████████| 5/5 [00:00<00:00, 50.49it/s]\n"
     ]
    },
    {
     "name": "stdout",
     "output_type": "stream",
     "text": [
      "Epoch 90 Loss: 388.8445\n"
     ]
    },
    {
     "name": "stderr",
     "output_type": "stream",
     "text": [
      "Epoch 91/100: 100%|██████████| 5/5 [00:00<00:00, 50.11it/s]\n"
     ]
    },
    {
     "name": "stdout",
     "output_type": "stream",
     "text": [
      "Epoch 91 Loss: 298.5146\n"
     ]
    },
    {
     "name": "stderr",
     "output_type": "stream",
     "text": [
      "Epoch 92/100: 100%|██████████| 5/5 [00:00<00:00, 51.27it/s]\n"
     ]
    },
    {
     "name": "stdout",
     "output_type": "stream",
     "text": [
      "Epoch 92 Loss: 336.8850\n"
     ]
    },
    {
     "name": "stderr",
     "output_type": "stream",
     "text": [
      "Epoch 93/100: 100%|██████████| 5/5 [00:00<00:00, 50.35it/s]\n"
     ]
    },
    {
     "name": "stdout",
     "output_type": "stream",
     "text": [
      "Epoch 93 Loss: 316.3257\n"
     ]
    },
    {
     "name": "stderr",
     "output_type": "stream",
     "text": [
      "Epoch 94/100: 100%|██████████| 5/5 [00:00<00:00, 51.51it/s]\n"
     ]
    },
    {
     "name": "stdout",
     "output_type": "stream",
     "text": [
      "Epoch 94 Loss: 322.2867\n"
     ]
    },
    {
     "name": "stderr",
     "output_type": "stream",
     "text": [
      "Epoch 95/100: 100%|██████████| 5/5 [00:00<00:00, 50.98it/s]\n"
     ]
    },
    {
     "name": "stdout",
     "output_type": "stream",
     "text": [
      "Epoch 95 Loss: 323.8159\n"
     ]
    },
    {
     "name": "stderr",
     "output_type": "stream",
     "text": [
      "Epoch 96/100: 100%|██████████| 5/5 [00:00<00:00, 53.16it/s]\n"
     ]
    },
    {
     "name": "stdout",
     "output_type": "stream",
     "text": [
      "Epoch 96 Loss: 384.7088\n"
     ]
    },
    {
     "name": "stderr",
     "output_type": "stream",
     "text": [
      "Epoch 97/100: 100%|██████████| 5/5 [00:00<00:00, 47.81it/s]\n"
     ]
    },
    {
     "name": "stdout",
     "output_type": "stream",
     "text": [
      "Epoch 97 Loss: 279.8035\n"
     ]
    },
    {
     "name": "stderr",
     "output_type": "stream",
     "text": [
      "Epoch 98/100: 100%|██████████| 5/5 [00:00<00:00, 49.10it/s]\n"
     ]
    },
    {
     "name": "stdout",
     "output_type": "stream",
     "text": [
      "Epoch 98 Loss: 351.2224\n"
     ]
    },
    {
     "name": "stderr",
     "output_type": "stream",
     "text": [
      "Epoch 99/100: 100%|██████████| 5/5 [00:00<00:00, 43.39it/s]\n"
     ]
    },
    {
     "name": "stdout",
     "output_type": "stream",
     "text": [
      "Epoch 99 Loss: 319.9847\n"
     ]
    },
    {
     "name": "stderr",
     "output_type": "stream",
     "text": [
      "Epoch 100/100: 100%|██████████| 5/5 [00:00<00:00, 48.24it/s]"
     ]
    },
    {
     "name": "stdout",
     "output_type": "stream",
     "text": [
      "Epoch 100 Loss: 350.1569\n"
     ]
    },
    {
     "name": "stderr",
     "output_type": "stream",
     "text": [
      "\n"
     ]
    }
   ],
   "source": [
    "train_model(model, dataloader, criterion, optimizer, num_epochs=100)"
   ]
  },
  {
   "cell_type": "code",
   "execution_count": 22,
   "metadata": {},
   "outputs": [],
   "source": [
    "\n",
    "\n",
    "torch.save(model.state_dict(), \"TextDetectorV1.pth\")"
   ]
  }
 ],
 "metadata": {
  "kernelspec": {
   "display_name": "venv",
   "language": "python",
   "name": "python3"
  },
  "language_info": {
   "codemirror_mode": {
    "name": "ipython",
    "version": 3
   },
   "file_extension": ".py",
   "mimetype": "text/x-python",
   "name": "python",
   "nbconvert_exporter": "python",
   "pygments_lexer": "ipython3",
   "version": "3.10.0"
  }
 },
 "nbformat": 4,
 "nbformat_minor": 2
}
